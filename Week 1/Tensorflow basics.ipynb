{
 "cells": [
  {
   "cell_type": "markdown",
   "id": "b6348aea",
   "metadata": {},
   "source": [
    "# Tensorflow basics\n",
    "\n",
    "In deze notebook worden een aantal basisconcepten van tensorflow toegelicht en bekeken aan de hand van een aantal voorbeelden.\n",
    "\n",
    "## Tensors\n",
    "\n",
    "Het basisconcept van tensorflow is een tensor.\n",
    "Dit is een multi-dimensionele rij met een uniform datatype of dtype.\n",
    "Dit concept komt heel sterk overeen met een array van Numpy.\n",
    "Alle tensors zijn onwijzigbaar of immutable, net zoals spark dataframes.\n",
    "Dit houdt in dat hun waarden niet kunnen gewijzigd worden.\n",
    "Alle operaties op een tensor maken dus een nieuwe tensor aan.\n",
    "\n",
    "Een tensor aanmaken kan door middel van de constant functie."
   ]
  },
  {
   "cell_type": "code",
   "execution_count": null,
   "id": "9f45899d",
   "metadata": {},
   "outputs": [],
   "source": []
  },
  {
   "cell_type": "code",
   "execution_count": null,
   "id": "50e4679a",
   "metadata": {},
   "outputs": [],
   "source": []
  },
  {
   "cell_type": "markdown",
   "id": "00d0f17f",
   "metadata": {},
   "source": [
    "Op tensors kunnen de volgende operaties uitgevoerd worden\n",
    "* add\n",
    "* multiply\n",
    "* matrix multiplication\n",
    "* en andere wiskunde operaties zoals softmax, maximum vinden, ... (zie hiervoor ook de [math package](https://www.tensorflow.org/api_docs/python/tf/math))"
   ]
  },
  {
   "cell_type": "code",
   "execution_count": 1,
   "id": "28f7435e",
   "metadata": {},
   "outputs": [],
   "source": [
    "#add\n",
    "\n",
    "#multiply\n",
    "\n",
    "#matrix multiplication\n",
    "\n",
    "#find maximum\n",
    "\n",
    "#find index of maximum\n",
    "\n",
    "#compute softmax for each element in tensor"
   ]
  },
  {
   "cell_type": "markdown",
   "id": "5ad2d214",
   "metadata": {},
   "source": [
    "**Shapes**\n",
    "\n",
    "De dimensies van een tensor zijn zeer belangrijk.\n",
    "Bij communicatie over de tensors worden de volgende termen gebruikt:\n",
    "* Axis: Dit is een specifieke dimensie van de tensor\n",
    "* Rank: Het aantal dimensies waarover de tensor beschikt\n",
    "    * Eenvoudig getal: 0\n",
    "    * Een enkelvoudige rij: 1\n",
    "    * Een matrix: 2\n",
    "* Shape: De lengte van elk van de dimensies van de tensor. **Let op**: Buiten een aantal uitzondering moet een tensor steeds rechthoekig zijn. Dit wil zeggen dat elk element op een axis dezelfde lengte moet hebben.\n",
    "* Size: Het totaal aantal elementen in de tensor. Dit is het product van de lengtes van elke dimensie\n",
    "\n",
    "Deze waarden van een tensor kunnen als volgt berekend worden:"
   ]
  },
  {
   "cell_type": "code",
   "execution_count": null,
   "id": "ee746a16",
   "metadata": {},
   "outputs": [],
   "source": []
  },
  {
   "cell_type": "markdown",
   "id": "b204c059",
   "metadata": {},
   "source": [
    "**Indexing:**\n",
    "\n",
    "Tensorflow maakt gebruik van de standaard python indexing regels:\n",
    "* Indexes beginnen op 0\n",
    "* Negatieve indexes tellen vanaf het einde\n",
    "* Dubbelpunt wordt gebruikt om slices of bereiken te kiezen volgens start:stop:end"
   ]
  },
  {
   "cell_type": "code",
   "execution_count": null,
   "id": "c508c819",
   "metadata": {},
   "outputs": [],
   "source": []
  },
  {
   "cell_type": "markdown",
   "id": "b864f7bf",
   "metadata": {},
   "source": [
    "**Manipuleren van een tensor**\n",
    "\n",
    "Reshaping of het aanpassen van de shape van een tensor kan vaak heel handig zijn.\n",
    "Hiervoor kan je de reshape functie gebruiken. \n",
    "Deze operatie is heel rekenefficient omdat de data ongewijzigd blijft.\n",
    "\n",
    "Voor ML moet er vaak een matrix van features (figuren) omgezet worden naar een 1-dimensionale vector/rij/tensor om het te kunnen aanbieden aan een neuraal netwerk. Deze operatie wordt ook flatten genoemd.\n",
    "\n",
    "Typisch is het enkel aangeraden om een reshape te doen om dimensies met een lengte van 1 weg te laten of naburige axis te combineren of te splitsen. Indien je meer willekeurige zaken doet gaan de resultaten niet altijd bruikbaar zijn omdat de volgorde van dimensies niet gerespecteerd blijft."
   ]
  },
  {
   "cell_type": "code",
   "execution_count": null,
   "id": "7094fe55",
   "metadata": {},
   "outputs": [],
   "source": []
  },
  {
   "cell_type": "markdown",
   "id": "2c6f6b60",
   "metadata": {},
   "source": [
    "Daarnaast zijn er nog een aantal interessante kenmerken van tensors die zelf verder bestudeerd kunnen worden.\n",
    "Enkele voorbeelden hiervan zijn:\n",
    "* Broadcasting\n",
    "* Data types\n",
    "* Sparse tensors\n",
    "* Ragged tensors\n",
    "* String tensors\n",
    "\n",
    "**Oefening:**\n",
    "\n",
    "Maak twee tensors aan met respectievelijk een shape van 3x4 en 4x3.\n",
    "* Bereken het product van beide matrices. Kan dit product in beide richtingen berekend worden?\n",
    "* Wat is het gemiddelde van de eerste tensor?\n",
    "* Wat is het minimum van de tweede tensor?\n",
    "* Bereken het negatieve van de eerste tensor. Dit betekend dat elk element vermenigvuldigd wordt met -1."
   ]
  },
  {
   "cell_type": "code",
   "execution_count": null,
   "id": "dcfacd93",
   "metadata": {},
   "outputs": [],
   "source": []
  },
  {
   "cell_type": "markdown",
   "id": "d1700537",
   "metadata": {},
   "source": [
    "## Variables\n",
    "\n",
    "Met tensors kan je reeds heel wat berekeningen uitvoeren.\n",
    "Echter is het onmogleijk om een persistente state te hebben die gemanipuleerd wordt door het programma omdat ze immutable zijn.\n",
    "Deze persistente state kan bijvoorbeeld een tensor van de gewichten zijn in het model of andere parameters die gewijzigd of getrained moeten worden.\n",
    "\n",
    "Om deze state bij te houden moet er gebruikt gemaakt worden van een Variable.\n",
    "Deze kan aangemaakt worden door gebruik te maken van de klasse tf.Variable().\n",
    "Een object van deze klasse stelt een tensor voor dat wel kan aangepast worden door er operaties op uit te voeren."
   ]
  },
  {
   "cell_type": "code",
   "execution_count": null,
   "id": "fb33e89a",
   "metadata": {},
   "outputs": [],
   "source": []
  },
  {
   "cell_type": "markdown",
   "id": "d6e2f609",
   "metadata": {},
   "source": [
    "Zoals hierboven aangehaald moeten er specifieke operaties gebruikt worden om de waarde van de tensor aan te passen.\n",
    "Een aantal mogelijke operaties hiervoor zijn:\n",
    "* tf.Variable.assign()\n",
    "* tf.Variable.assign_add()\n",
    "* tf.Variable.assign_sub()\n",
    "* Andere functies kan je [hier](https://www.tensorflow.org/api_docs/python/tf/Variable) vinden.\n",
    "\n",
    "Let op dat hierbij de aangemaakt tensor herbruikt wordt. Hierdoor is het dus niet mogelijk om een andere size in te stellen voor de variable.\n",
    "\n",
    "In de code hieronder zie je een aantal code voorbeelden voor te werken met variabelen:"
   ]
  },
  {
   "cell_type": "code",
   "execution_count": null,
   "id": "34175c8d",
   "metadata": {},
   "outputs": [],
   "source": []
  },
  {
   "cell_type": "markdown",
   "id": "04c8f045",
   "metadata": {},
   "source": [
    "Voor performantie probeert Tensorflow steeds de tensors en variabelen op het snelste toestel te plaatsen dat compatibel is met zijn datatype. \n",
    "Dit betekend dat de meeste variabelen op de **GPU** bewaard worden indien er 1 beschikbaar is.\n",
    "Dit gedrag kan aangepast worden doro middel van de tf.device functie.\n",
    "Indien je hiervan gebruik maakt kan je er ook voor zorgen dat de locatie ingesteld wordt op 1 toestel en de uitvoering op een ander gedaan wordt.\n",
    "Dit introduceert wel een delay omdat de data gekopieerd moet worden naar het andere toestel.\n",
    "Dit wordt soms gedaan als je meerdere GPU's gebruikt maar slechts 1 kopie wilt van de variabelen."
   ]
  },
  {
   "cell_type": "code",
   "execution_count": null,
   "id": "aa4a20ab",
   "metadata": {},
   "outputs": [],
   "source": []
  },
  {
   "cell_type": "markdown",
   "id": "c95204af",
   "metadata": {},
   "source": [
    "## Eager vs graph execution\n",
    "\n",
    "In de code hierboven is steeds gebruik gemaakt van zogenoemde **eager execution**. \n",
    "Dit houdt in dat de code uitgevoerd wordt op dezelfde manier dat de python code uitgevoerd wordt, namelijk:\n",
    "* Lijn per lijn wordt de code geinterpreerd\n",
    "* Operatie na operatie wordt uitgevoerd\n",
    "* De resultaten worden na elke operatie teruggegeven aan de python interpreter\n",
    "\n",
    "Ook al heeft deze eager execution een aantal voorbeelden (met name dat het vlotter programmeert in python) zijn er ook een aantal problemen.\n",
    "Het grootste probleem is dat je code enkel kan uitgevoerd worden op een systeem dat python kan draaien.\n",
    "Daarnaast is het ook niet het meest performante systeem omdat de interpreter van python geen code kan optimaliseren doordat het lijn per lijn werkt.\n",
    "Een alternatieve manier van uitvoering dat beschikbaar gesteld wordt door tensorflow wordt **graph execution** genoemd.\n",
    "Dit houdt in dat je in python code een graaf opsteld van de operaties die voor een bepaalde input moeten uitgevoerd worden.\n",
    "Tensorflow kan dan alle operaties in de volledige graaf in 1 keer en in parallel uitvoeren.\n",
    "Meer informatie over deze manier van code uitvoeren kan je [hier](https://www.tensorflow.org/guide/intro_to_graphs) vinden."
   ]
  },
  {
   "cell_type": "code",
   "execution_count": null,
   "id": "fe899041",
   "metadata": {},
   "outputs": [],
   "source": []
  },
  {
   "cell_type": "markdown",
   "id": "4aaca830",
   "metadata": {},
   "source": [
    "Een eerste belangrijke opmerking is dat een graph gemaakt wordt voor elke unieke set van inputs (dus op basis de specifieke waarden).\n",
    "Dit wordt ook wel de handtekening of (input) signature genoemd van de graph.\n",
    "Dit is belangrijk omdat op deze manier de resultaten gecached kunnen worden en de optimalisatie niet steeds opnieuw moet gebeuren.\n",
    "\n",
    "De omzetting van eager execution naar graph execution gaat vrij automatisch en probleemloos.\n",
    "De meeste standaard python code wordt zonder problemen en volledig omgezet.\n",
    "Een eerste belangrijke opmerking is hoe de graph execution werkt.\n",
    "Bekijk hiervoor de output van onderstaande voorbeeld."
   ]
  },
  {
   "cell_type": "code",
   "execution_count": null,
   "id": "f6f8b83a",
   "metadata": {},
   "outputs": [],
   "source": []
  },
  {
   "cell_type": "markdown",
   "id": "20504034",
   "metadata": {},
   "source": [
    "Het valt op dat als je bovenstaande code uitvoert als graph execution, dat de output slechts 1 keer uitgeprint wordt. \n",
    "Dit komt omdat de graph geoptimaliseerd wordt door het \"tracing\" proces.\n",
    "De print wordt hierdoor niet meegenomen omdat het geen deel uitmaakt van de tensorflow operaties en ook geen impact heeft.\n",
    "De print functie wordt ook wel een python side effect genoemd.\n",
    "Als je toch steeds een print wil uitvoeren moet je gebruik maken van de functie **tf.print()**.\n",
    "\n",
    "Wanneer de graph execution uitgeschakeld wordt door middel van de run_functions_eagerly functie  dan zien we dat de print wel drie keer uitgevoerd wordt.\n",
    "Typisch worden bij graph executions enkel de volgende functies uitgevoerd:\n",
    "* De return value\n",
    "* Functies met well-known side effects zoals\n",
    "    * tf.print\n",
    "    * tf.debugging (asserts bvb)\n",
    "    * aanpassingen van tf.Variable objecten\n",
    "    \n",
    "Dit type gedrag wordt ook non-strict execution genoemd omdat niet alle stappen van het programma doorlopen worden.\n",
    "Dit heeft ook als gevolg dat het kan zijn dat exceptions niet opgeworpen worden als het gebeurt in een functie die niet opgeroepen wordt.\n",
    "**Reken dus niet op het opwerpen van een exception**.\n",
    "Een voorbeeld hiervan kan bestudeerd worden in onderstaande voorbeeld."
   ]
  },
  {
   "cell_type": "code",
   "execution_count": null,
   "id": "89ce2f1c",
   "metadata": {},
   "outputs": [],
   "source": []
  },
  {
   "cell_type": "code",
   "execution_count": null,
   "id": "1a9a3d11",
   "metadata": {},
   "outputs": [],
   "source": []
  },
  {
   "cell_type": "markdown",
   "id": "58e1b32d",
   "metadata": {},
   "source": [
    "**Performantie boost**\n",
    "\n",
    "Gebruik maken van graph execution heeft typisch een performantie winst tot gevolg, afhankelijk van het type van berekening dat je uitvoert.\n",
    "Hieronder staat een voorbeeld waarbij een aantal matrixberekeningen uitgevoerd worden en de uitvoeringstijd voor zowel eager als graph execution wordt berekend."
   ]
  },
  {
   "cell_type": "code",
   "execution_count": null,
   "id": "d7cdd91c",
   "metadata": {},
   "outputs": [],
   "source": []
  },
  {
   "cell_type": "code",
   "execution_count": null,
   "id": "cad3fdd7",
   "metadata": {},
   "outputs": [],
   "source": []
  },
  {
   "cell_type": "markdown",
   "id": "88a4a277",
   "metadata": {},
   "source": [
    "Let wel op dat deze performantie boost enkel ervaren wordt wanneer een bepaalde functie meermaals uitgevoerd wordt.\n",
    "De eerste keer dat de functie uitgevoerd wordt is er extra rekentijd nodig om de graph op te bouwen en te optimaliseren (**tracing** genoemd).\n",
    "Deze extra kost op vlak van rekentijd wordt echter snel terugverdiend door de volgende functies."
   ]
  },
  {
   "cell_type": "markdown",
   "id": "bbc1b866",
   "metadata": {},
   "source": [
    "**Best practices voor graph execution**\n",
    "\n",
    "* **Wissel tussen eager en graph execution** om vast te stellen op welk punt de modes wijzigen.\n",
    "* Maak tf.Variables aan buiten de python functie en wijzig ze binnen de functie. Dit geldt ook voor andere objecten zoals layers, Models, optimizers, ...\n",
    "* Vermijd functies te schrijven die afhangen van standaard python variabelen behalve tf.Variables en Keras objecten.\n",
    "* Geef de voorkeur aan tensors en en tensorflow types als inputs van functies\n",
    "* Plaats zoveel mogelijk bewerkingen in tf.functions om de performantiewinst te optimaliseren."
   ]
  },
  {
   "cell_type": "code",
   "execution_count": null,
   "id": "85d5b6ac",
   "metadata": {},
   "outputs": [],
   "source": []
  }
 ],
 "metadata": {
  "kernelspec": {
   "display_name": "Python 3 (ipykernel)",
   "language": "python",
   "name": "python3"
  },
  "language_info": {
   "codemirror_mode": {
    "name": "ipython",
    "version": 3
   },
   "file_extension": ".py",
   "mimetype": "text/x-python",
   "name": "python",
   "nbconvert_exporter": "python",
   "pygments_lexer": "ipython3",
   "version": "3.10.5"
  }
 },
 "nbformat": 4,
 "nbformat_minor": 5
}
